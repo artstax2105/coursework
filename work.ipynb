{
 "cells": [
  {
   "attachments": {},
   "cell_type": "markdown",
   "id": "048defad",
   "metadata": {},
   "source": [
    "### Курсовая работа по СИАОД\n",
    "<i> Выполнил студент БВТ2105 Стаховский Артём </i>"
   ]
  },
  {
   "cell_type": "code",
   "execution_count": 4,
   "id": "c56d4463",
   "metadata": {},
   "outputs": [],
   "source": [
    "#функция чтения таблицы\n",
    "def  read_file(table_file):\n",
    "\n",
    "    with open(table_file, 'r', encoding='utf-8') as file:\n",
    "        data = []\n",
    "        for line in file:\n",
    "            data.append(line.strip().split(';'))\n",
    "        return data\n",
    "table_file='table.csv'\n",
    "#читаем таблицу\n",
    "table=read_file(table_file)"
   ]
  },
  {
   "cell_type": "code",
   "execution_count": 5,
   "id": "314c1f17",
   "metadata": {},
   "outputs": [],
   "source": [
    " #Класс ‘HashTable’ будет содержать массив,\n",
    " #который будет содержать связанные списки, \n",
    " #а также методы для вставки, извлечения и удаления данных из хэш-таблицы. \n",
    "class HashTable:\n",
    "    #Метод ‘__init__‘ инициализирует хэш-таблицу с заданной емкостью.\n",
    "    #Он устанавливает переменные ‘capacity‘ и ‘size‘ и инициализирует массив значением ‘None’.\n",
    "    def __init__(self, capacity):\n",
    "        self.capacity = capacity\n",
    "        self.size = 0\n",
    "        self.table = [None] * capacity\n",
    "    #Этот метод принимает ключ и возвращает индекс в массиве, где должна храниться пара ключ-значение\n",
    "    def _hash(self, key):\n",
    "        return hash(key) % self.capacity\n",
    "    #Метод ‘insert’ вставит пару ключ-значение в хэш-таблицу. \n",
    "    #Он принимает индекс, в котором должна храниться пара, используя метод ‘_hash‘.\n",
    "    def insert(self, key, value):\n",
    "        index = self._hash(key)\n",
    "  \n",
    "        if self.table[index] is None:\n",
    "            self.table[index] = Node(key, value)\n",
    "            self.size += 1\n",
    "        else:\n",
    "            current = self.table[index]\n",
    "            while current:\n",
    "                if current.key == key:\n",
    "                    current.value = value\n",
    "                    return\n",
    "                current = current.next\n",
    "            new_node = Node(key, value)\n",
    "            new_node.next = self.table[index]\n",
    "            self.table[index] = new_node\n",
    "            self.size += 1\n",
    "    #Метод search извлекает значение, связанное с заданным ключом. \n",
    "    # Сначала он получает индекс, в котором должна храниться пара ключ-значение, используя метод _hash. \n",
    "    # Затем выполняется поиск ключа в связанном списке по этому индексу.\n",
    "    def search(self, key):\n",
    "        index = self._hash(key)\n",
    "  \n",
    "        current = self.table[index]\n",
    "        while current:\n",
    "            if current.key == key:\n",
    "                return current.value\n",
    "            current = current.next\n",
    "  \n",
    "        raise KeyError(key)\n",
    "    #Метод ‘remove’ удаляет пару ключ-значение из хэш-таблицы.\n",
    "    #  Сначала он получает индекс, в котором должна храниться пара, используя метод `_hash`. \n",
    "    # Затем выполняется поиск ключа в связанном списке по этому индексу.\n",
    "    def remove(self, key):\n",
    "        index = self._hash(key)\n",
    "  \n",
    "        previous = None\n",
    "        current = self.table[index]\n",
    "  \n",
    "        while current:\n",
    "            if current.key == key:\n",
    "                if previous:\n",
    "                    previous.next = current.next\n",
    "                else:\n",
    "                    self.table[index] = current.next\n",
    "                self.size -= 1\n",
    "                return\n",
    "            previous = current\n",
    "            current = current.next\n",
    "  \n",
    "        raise KeyError(key)\n",
    "  \n",
    "    def __len__(self):\n",
    "        return self.size\n",
    "  \n",
    "    def __contains__(self, key):\n",
    "        try:\n",
    "            self.search(key)\n",
    "            return True\n",
    "        except KeyError:\n",
    "            return False"
   ]
  },
  {
   "cell_type": "code",
   "execution_count": 6,
   "id": "8b2bdf4c-92d8-455f-8fcb-354920923120",
   "metadata": {
    "tags": []
   },
   "outputs": [
    {
     "name": "stdout",
     "output_type": "stream",
     "text": [
      "241969500\n"
     ]
    }
   ],
   "source": [
    "\n",
    "#номер 1 решается простым суммированием элементов массива\n",
    "def task1(table):\n",
    "    sum=0\n",
    "    for i in range(1, len(table)):\n",
    "        sum += int(table[i][6])\n",
    "    return sum\n",
    "print(task1(table))\n"
   ]
  },
  {
   "cell_type": "code",
   "execution_count": 7,
   "id": "8a3fd53f",
   "metadata": {},
   "outputs": [
    {
     "name": "stdout",
     "output_type": "stream",
     "text": [
      "['Philips Hue Smart Bulbs', 'Apple iPhone 14']\n"
     ]
    }
   ],
   "source": [
    "#номер 2 решается сортировкой пузырем, переставляем вместо значений \n",
    "#целые строки, которые хранят эти значения\n",
    "#находим наибольшие элементы, пока они не перестанут повторяться\n",
    "def task2_bubble_sort(table):\n",
    "    n = 1\n",
    "    list=[]\n",
    "\n",
    "    for i in range (1, len(table) - 1):\n",
    "        for j in range(1,len(table) - n):\n",
    "            if int(table[j][4]) > int(table[j + 1][4]):\n",
    "                table[j], table[j + 1] = table[j + 1], table[j]\n",
    "        n += 1\n",
    "        \n",
    "        if (table[-1][4])!=(table[j+1][4]):\n",
    "            return list\n",
    "       \n",
    "        list.append(table[-(i)][2])\n",
    "    return list\n",
    "        \n",
    "print(task2_bubble_sort(table))"
   ]
  },
  {
   "cell_type": "code",
   "execution_count": 8,
   "id": "861f9a2a",
   "metadata": {},
   "outputs": [
    {
     "name": "stdout",
     "output_type": "stream",
     "text": [
      "Apple iPhone 14\n"
     ]
    }
   ],
   "source": [
    "table=read_file(table_file)\n",
    "#номер 3 решается через хэш таблицу\n",
    "# параметр ключа мыв задаем прибыль\n",
    "# если есть позиции с одинаковой прибылью, значение просто перезаписывается\n",
    "# тк по заданию нужно найти 1 товар с наибольшей прибылью\n",
    "\n",
    "def task3_ht_bubble_sort(table):\n",
    "    n = 1\n",
    "    \n",
    "    ht = HashTable(len(table)-1)\n",
    "\n",
    "\n",
    "    for i in range (1, len(table)):\n",
    "        ht.insert((table[i][6]),(table[i][2]))\n",
    "     \n",
    "    for j in range(1,len(table) - n):\n",
    "        if int(table[j][6]) > int(table[j + 1][6]):\n",
    "            table[j][6], table[j + 1][6] = table[j + 1][6], table[j][6]\n",
    "    \n",
    "    return ht.search(table[-1][6])\n",
    "\n",
    "print(task3_ht_bubble_sort(table))"
   ]
  },
  {
   "cell_type": "code",
   "execution_count": 9,
   "id": "17a6961b",
   "metadata": {},
   "outputs": [
    {
     "name": "stdout",
     "output_type": "stream",
     "text": [
      "Выручка: 241969500 рублей\n",
      "продано :\n",
      "Apple iPhone 14 ;  500 шт;  185.95 %\n",
      "Samsung Galaxy S22 Ultra ;  300 шт;  123.97 %\n",
      "Игровые приставки ;  200 шт;  49.58 %\n",
      "LG OLED TV ;  150 шт;  111.57 %\n",
      "Apple MacBook Pro 16 ;  100 шт;  82.65 %\n",
      "Canon EOS R7 ;  50 шт;  51.65 %\n",
      "Bose QuietComfort 55 ;  100 шт;  14.46 %\n",
      "Samsung Galaxy Tab S8 ;  75 шт;  21.69 %\n",
      "DJI Mavic 3 ;  25 шт;  15.49 %\n",
      "Philips Hue Smart Bulbs ;  500 шт;  6.17 %\n",
      "Apple iPad Pro 12.9 ;  200 шт;  74.38 %\n",
      "Sony PlayStation 5 Pro ;  100 шт;  24.79 %\n",
      "Samsung Galaxy Watch 5 ;  150 шт;  18.59 %\n",
      "LG UltraFine ;  50 шт;  20.66 %\n",
      "Canon EOS R8 ;  75 шт;  92.98 %\n",
      "Bose SoundLink Revolve+ ;  100 шт;  10.32 %\n",
      "DJI Ronin 4D ;  25 шт;  51.65 %\n",
      "Samsung Galaxy Book Pro ;  50 шт;  26.86 %\n",
      "Philips Sonicare DiamondClean ;  200 шт;  8.25 %\n",
      "Nest Learning Thermostat ;  100 шт;  8.26 %\n"
     ]
    }
   ],
   "source": [
    "table=read_file(table_file)\n",
    "# номер 4 создадим 2 хэш таблицы с ключами в виде названия\n",
    "# тк они уникальны. Выводим в правильном порядке, попутно считая долю каждого товара в выручке\n",
    "    \n",
    "def task4(table):\n",
    "    revenue=task1(table)\n",
    "    print(\"Выручка: \"+str(revenue)+\" рублей\")\n",
    "    print(\"продано :\")\n",
    "    \n",
    "    \n",
    "\n",
    "    \n",
    "    ht_quantity = HashTable(len(table)-1)\n",
    "    ht_revenue = HashTable(len(table)-1)\n",
    "    for i in range (1,len(table)):\n",
    "        ht_quantity.insert((table[i][2]),(table[i][4]))\n",
    "        ht_revenue.insert((table[i][2]),int((table[i][-1])))\n",
    "    for i in range (1,len(table)):\n",
    "       \n",
    "        print(table[i][2],\"; \",ht_quantity.search(table[i][2]),\"шт; \",int(ht_revenue.search(table[i][2])/revenue*100000)/100,\"%\")\n",
    "task4(table)"
   ]
  }
 ],
 "metadata": {
  "colab": {
   "provenance": []
  },
  "kernelspec": {
   "display_name": "Python 3 (ipykernel)",
   "language": "python",
   "name": "python3"
  },
  "language_info": {
   "codemirror_mode": {
    "name": "ipython",
    "version": 3
   },
   "file_extension": ".py",
   "mimetype": "text/x-python",
   "name": "python",
   "nbconvert_exporter": "python",
   "pygments_lexer": "ipython3",
   "version": "3.9.0"
  },
  "vscode": {
   "interpreter": {
    "hash": "39f0f7c847b86b1e1b4772c6dc554287628e6e83e524a755b1907f90f8934fa7"
   }
  }
 },
 "nbformat": 4,
 "nbformat_minor": 5
}
